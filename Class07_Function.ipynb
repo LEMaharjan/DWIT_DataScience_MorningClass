{
 "cells": [
  {
   "cell_type": "code",
   "execution_count": 1,
   "id": "e6b967b3-50a4-467d-b870-8ef3da414957",
   "metadata": {},
   "outputs": [
    {
     "name": "stdout",
     "output_type": "stream",
     "text": [
      "Ram\n",
      "hello\n",
      "welcome home\n",
      "tea or coffee\n",
      "have a seat\n"
     ]
    }
   ],
   "source": [
    "def greet_user():\n",
    "    print('hello')\n",
    "    print('welcome home')\n",
    "    print('tea or coffee')\n",
    "    print('have a seat')\n",
    "   # greet_user()     ##Recursion causing infinite loops\n",
    "print('Ram')\n",
    "greet_user()"
   ]
  },
  {
   "cell_type": "code",
   "execution_count": 8,
   "id": "3b7f2437-a2ae-422b-b606-3235f6bd5a27",
   "metadata": {},
   "outputs": [
    {
     "ename": "TypeError",
     "evalue": "greet_user() missing 1 required positional argument: 'age'",
     "output_type": "error",
     "traceback": [
      "\u001b[0;31m---------------------------------------------------------------------------\u001b[0m",
      "\u001b[0;31mTypeError\u001b[0m                                 Traceback (most recent call last)",
      "Cell \u001b[0;32mIn[8], line 6\u001b[0m\n\u001b[1;32m      4\u001b[0m     \u001b[38;5;28mprint\u001b[39m(\u001b[38;5;124m'\u001b[39m\u001b[38;5;124mtea \u001b[39m\u001b[38;5;124m'\u001b[39m)\n\u001b[1;32m      5\u001b[0m     \u001b[38;5;28mprint\u001b[39m(\u001b[38;5;124m'\u001b[39m\u001b[38;5;124mhave a seat\u001b[39m\u001b[38;5;124m'\u001b[39m)\n\u001b[0;32m----> 6\u001b[0m \u001b[43mgreet_user\u001b[49m\u001b[43m(\u001b[49m\u001b[38;5;124;43m'\u001b[39;49m\u001b[38;5;124;43mRam\u001b[39;49m\u001b[38;5;124;43m'\u001b[39;49m\u001b[43m)\u001b[49m\n\u001b[1;32m      7\u001b[0m greet_user(\u001b[38;5;124m'\u001b[39m\u001b[38;5;124mshyam\u001b[39m\u001b[38;5;124m'\u001b[39m,\u001b[38;5;241m4\u001b[39m)\n",
      "\u001b[0;31mTypeError\u001b[0m: greet_user() missing 1 required positional argument: 'age'"
     ]
    }
   ],
   "source": [
    "def greet_user(name, age):\n",
    "    print(f'hello {name}, you are {age} years old')\n",
    "    print('welcome home')\n",
    "    print('tea ')\n",
    "    print('have a seat')\n",
    "greet_user('Ram')\n",
    "greet_user('shyam',4)"
   ]
  },
  {
   "cell_type": "markdown",
   "id": "da6bd1ca-27ed-4cd0-bf23-a8b3ae4a3b00",
   "metadata": {},
   "source": [
    "# Defaul Parameters"
   ]
  },
  {
   "cell_type": "code",
   "execution_count": 7,
   "id": "ab00f465-9ac4-4bdd-b821-7c74f7f624f0",
   "metadata": {},
   "outputs": [
    {
     "name": "stdout",
     "output_type": "stream",
     "text": [
      "hello Ram, you are 20 years old\n",
      "welcome home\n",
      "tea \n",
      "have a seat\n",
      "hello shyam, you are 4 years old\n",
      "welcome home\n",
      "tea \n",
      "have a seat\n"
     ]
    }
   ],
   "source": [
    "def greet_user(name, age=20):\n",
    "    print(f'hello {name}, you are {age} years old')\n",
    "    print('welcome home')\n",
    "    print('tea ')\n",
    "    print('have a seat')\n",
    "greet_user('Ram')\n",
    "greet_user('shyam',4)"
   ]
  },
  {
   "cell_type": "markdown",
   "id": "f8071502-e054-410e-97f1-e0e27914068e",
   "metadata": {},
   "source": [
    "# Classes --OOP\n",
    "An object is an instance of a class.\n",
    "Single class can have many objects.\n",
    "A class simply defines the blueprint for creating objects\n"
   ]
  },
  {
   "cell_type": "code",
   "execution_count": 22,
   "id": "92c9ae0a-9d05-487f-b97d-ad2a3b698a41",
   "metadata": {},
   "outputs": [
    {
     "name": "stdout",
     "output_type": "stream",
     "text": [
      "Monitor displays the content in the classroom\n",
      "Fan provided air in the classroom\n",
      "Fan provided air in the classroom\n",
      "Monitor displays the content in the classroom\n"
     ]
    }
   ],
   "source": [
    "class Classroom:              #pascal convention of capitalizing first letter of classname\n",
    "    def monitor(self):        # self references the current object in memory\n",
    "        print('Monitor displays the content in the classroom')\n",
    "    def fan(self):            #functions of class but a method for object\n",
    "        print('Fan provided air in the classroom')\n",
    "student = Classroom()\n",
    "student.monitor()\n",
    "student.fan()\n",
    "\n",
    "student1 = Classroom()\n",
    "student1.fan()               #method is a function that is specific to certain object.\n",
    "student1.monitor()\n",
    "      "
   ]
  },
  {
   "cell_type": "code",
   "execution_count": 25,
   "id": "4344ad5b-0059-475b-a8e2-957ac6bdac82",
   "metadata": {},
   "outputs": [
    {
     "name": "stdout",
     "output_type": "stream",
     "text": [
      "Monitor displays the content in the classroom\n",
      "Fan provided air in the classroom\n",
      "striiiing\n",
      "Fan provided air in the classroom\n",
      "Monitor displays the content in the classroom\n"
     ]
    }
   ],
   "source": [
    "class Classroom:              #pascal convention of capitalizing first letter of classname\n",
    "    def monitor(self, name):        # self references the current object in memory\n",
    "        print('Monitor displays the content in the classroom')\n",
    "    def fan(self):            #functions of class but a method for object\n",
    "        print('Fan provided air in the classroom')\n",
    "student = Classroom()\n",
    "student.monitor('Ram')\n",
    "student.fan()\n",
    "student.x = \"striiiing\"\n",
    "print(student.x)            #attributes are like variables belonging to the particular object.\n",
    "\n",
    "student1 = Classroom()\n",
    "student1.fan()\n",
    "student1.monitor('shyam')\n",
    "      "
   ]
  },
  {
   "cell_type": "code",
   "execution_count": 68,
   "id": "92dea266-6e3f-408a-b362-2ad6ba88df25",
   "metadata": {},
   "outputs": [
    {
     "name": "stdout",
     "output_type": "stream",
     "text": [
      "Fan provided air in the classroom\n",
      "Monitor displays the content in the classroom for Ram monitor_var120\n",
      "Ram is 20 years old\n"
     ]
    }
   ],
   "source": [
    "class Classroom:              #pascal convention of capitalizing first letter of classname\n",
    "    def __init__(self,x,y):         #constructors are the functions that gets initialized at the time of creating objects.\n",
    "        self.name = x\n",
    "        self.age = y\n",
    "        \n",
    "    def monitor(self, monitor_argument1):        # self references the current object in memory\n",
    "        monitor_var1 = 'monitor_var1'\n",
    "        monitor_var2 = 20\n",
    "        self.var3 = 'self variable'\n",
    "        print(f'Monitor displays the content in the classroom for {self.name} {monitor_var1}{monitor_var2}')\n",
    "\n",
    "    \n",
    "    def fan(self):            #functions of class but a method for object\n",
    "        print('Fan provided air in the classroom')\n",
    "\n",
    "\n",
    "student1 = Classroom('Ram',20)\n",
    "student1.fan()\n",
    "student1.monitor(\"Shyam\")\n",
    "print(f'{student1.name} is {student1.age} years old')"
   ]
  },
  {
   "cell_type": "code",
   "execution_count": null,
   "id": "cef02e9c-5a4a-40b5-9787-24edc01b1a14",
   "metadata": {},
   "outputs": [],
   "source": []
  }
 ],
 "metadata": {
  "kernelspec": {
   "display_name": "Python 3 (ipykernel)",
   "language": "python",
   "name": "python3"
  },
  "language_info": {
   "codemirror_mode": {
    "name": "ipython",
    "version": 3
   },
   "file_extension": ".py",
   "mimetype": "text/x-python",
   "name": "python",
   "nbconvert_exporter": "python",
   "pygments_lexer": "ipython3",
   "version": "3.12.4"
  }
 },
 "nbformat": 4,
 "nbformat_minor": 5
}
