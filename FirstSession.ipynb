{
 "cells": [
  {
   "cell_type": "code",
   "execution_count": null,
   "id": "0b479ab7-a40d-45d7-91ed-f834270086ca",
   "metadata": {},
   "outputs": [],
   "source": [
    "iterable: str, tuple, set, list, dict    #contains multiple values\n",
    "non-iterable: int, float, bool"
   ]
  },
  {
   "cell_type": "code",
   "execution_count": 1,
   "id": "8c314563-6d7a-4a32-9705-18b873a9293b",
   "metadata": {},
   "outputs": [
    {
     "name": "stdout",
     "output_type": "stream",
     "text": [
      "Hello World\n"
     ]
    }
   ],
   "source": [
    "print('Hello World')\n"
   ]
  },
  {
   "cell_type": "code",
   "execution_count": 11,
   "id": "53fe7bf3-c4c4-4d16-ae82-d4753810ea9b",
   "metadata": {},
   "outputs": [
    {
     "name": "stdout",
     "output_type": "stream",
     "text": [
      "My name is Anup\n",
      "My name is Anup\n"
     ]
    },
    {
     "data": {
      "text/plain": [
       "str"
      ]
     },
     "execution_count": 11,
     "metadata": {},
     "output_type": "execute_result"
    }
   ],
   "source": [
    "print(\"My name is Anup\")\n",
    "name=\"My name is Anup\"\n",
    "print(name)\n",
    "type(name)"
   ]
  },
  {
   "cell_type": "code",
   "execution_count": 12,
   "id": "b54751af-e736-469b-934f-78594823a40f",
   "metadata": {},
   "outputs": [
    {
     "name": "stdout",
     "output_type": "stream",
     "text": [
      "20\n",
      "20\n"
     ]
    },
    {
     "data": {
      "text/plain": [
       "int"
      ]
     },
     "execution_count": 12,
     "metadata": {},
     "output_type": "execute_result"
    }
   ],
   "source": [
    "print(20)\n",
    "dt_int = 20\n",
    "print(dt_int)\n",
    "type(dt_int)"
   ]
  },
  {
   "cell_type": "code",
   "execution_count": 13,
   "id": "af07bfb5-c52d-4181-b918-8fe68874da0e",
   "metadata": {},
   "outputs": [
    {
     "name": "stdout",
     "output_type": "stream",
     "text": [
      "20.2\n",
      "20.2\n"
     ]
    },
    {
     "data": {
      "text/plain": [
       "float"
      ]
     },
     "execution_count": 13,
     "metadata": {},
     "output_type": "execute_result"
    }
   ],
   "source": [
    "print(20.20)\n",
    "dt_float = 20.20\n",
    "print(dt_float)\n",
    "type(dt_float)"
   ]
  },
  {
   "cell_type": "code",
   "execution_count": 15,
   "id": "2adeb65e-c6c8-4ae9-88b3-fadbfb236004",
   "metadata": {},
   "outputs": [
    {
     "name": "stdout",
     "output_type": "stream",
     "text": [
      "True\n",
      "False\n",
      "True\n"
     ]
    },
    {
     "data": {
      "text/plain": [
       "bool"
      ]
     },
     "execution_count": 15,
     "metadata": {},
     "output_type": "execute_result"
    }
   ],
   "source": [
    "print(True)\n",
    "print(False)\n",
    "dt_boolen = True\n",
    "print(dt_boolen)\n",
    "type(dt_boolen)"
   ]
  },
  {
   "cell_type": "code",
   "execution_count": 7,
   "id": "cf09f2d1-f91a-43c7-b76e-475543eacb91",
   "metadata": {},
   "outputs": [
    {
     "name": "stdout",
     "output_type": "stream",
     "text": [
      "[1, 2, 3, 4]\n"
     ]
    }
   ],
   "source": [
    "print([1,2,3,4])    #List"
   ]
  },
  {
   "cell_type": "code",
   "execution_count": 8,
   "id": "a46556fb-ee05-4bdd-b577-55d95906946d",
   "metadata": {},
   "outputs": [
    {
     "name": "stdout",
     "output_type": "stream",
     "text": [
      "{'a': 1, 'b': 2}\n"
     ]
    }
   ],
   "source": [
    "print({'a':1,'b':2})  #dict"
   ]
  },
  {
   "cell_type": "code",
   "execution_count": 9,
   "id": "ff1d61e1-0c81-48dd-9d5b-57b2be29af9c",
   "metadata": {},
   "outputs": [
    {
     "name": "stdout",
     "output_type": "stream",
     "text": [
      "(1, 2, 3, 4)\n"
     ]
    }
   ],
   "source": [
    "print((1,2,3,4))     #tuple"
   ]
  },
  {
   "cell_type": "code",
   "execution_count": 1,
   "id": "c3ba4234-692c-4bff-9b79-efc28395c2c2",
   "metadata": {},
   "outputs": [
    {
     "name": "stdout",
     "output_type": "stream",
     "text": [
      "{1, 2, 3, 4}\n"
     ]
    }
   ],
   "source": [
    "print({1,2,2,3,4})    #set           doesnt show the duplicate values"
   ]
  },
  {
   "cell_type": "code",
   "execution_count": 1,
   "id": "d90c2652-117a-464a-984c-9c475d646e0e",
   "metadata": {},
   "outputs": [
    {
     "name": "stdout",
     "output_type": "stream",
     "text": [
      "it's a hot day\n",
      "it's a hot day\n"
     ]
    }
   ],
   "source": [
    "print(\"it's a hot day\")\n",
    "weather = \"it's a hot day\"\n",
    "print(weather)"
   ]
  },
  {
   "cell_type": "code",
   "execution_count": 2,
   "id": "11ff1272-5bf2-4a7e-9594-742b48ba9571",
   "metadata": {},
   "outputs": [
    {
     "name": "stdout",
     "output_type": "stream",
     "text": [
      "I am learning \"Python\"\n",
      "I am learning \"Python\"\n"
     ]
    }
   ],
   "source": [
    "print('I am learning \"Python\"')\n",
    "class_type = 'I am learning \"Python\"'\n",
    "print(class_type)"
   ]
  },
  {
   "cell_type": "code",
   "execution_count": 4,
   "id": "e8216c93-b017-4c6f-a4f9-f37d2cc61949",
   "metadata": {},
   "outputs": [
    {
     "name": "stdout",
     "output_type": "stream",
     "text": [
      "It's a \"very\" hot day\n",
      "It's a \"very\" hot day\n"
     ]
    }
   ],
   "source": [
    "print(\"It\\'s a \\\"very\\\" hot day\")\n",
    "duel_type = \"It\\'s a \\\"very\\\" hot day\"\n",
    "print(duel_type)"
   ]
  },
  {
   "cell_type": "code",
   "execution_count": 6,
   "id": "c940f5ce-2712-47cc-81e4-9716ec135880",
   "metadata": {},
   "outputs": [
    {
     "name": "stdout",
     "output_type": "stream",
     "text": [
      "This can print everything that's in between\n",
      "Either may be the line break\n",
      "or the # comment out section\n",
      "\n"
     ]
    }
   ],
   "source": [
    "print('''This can print everything that's in between\n",
    "Either may be the line break\n",
    "or the # comment out section\n",
    "''')"
   ]
  },
  {
   "cell_type": "code",
   "execution_count": 9,
   "id": "7620c3e1-5a61-43f4-aea1-71b3b9f38642",
   "metadata": {},
   "outputs": [
    {
     "name": "stdout",
     "output_type": "stream",
     "text": [
      "this \n",
      " is\n",
      " using escape character\n"
     ]
    }
   ],
   "source": [
    "print(\"this \\n is\\n using escape character\")"
   ]
  },
  {
   "cell_type": "code",
   "execution_count": null,
   "id": "f67169f3-16b6-4154-93fb-05b9d5a762ab",
   "metadata": {},
   "outputs": [],
   "source": []
  }
 ],
 "metadata": {
  "kernelspec": {
   "display_name": "Python 3 (ipykernel)",
   "language": "python",
   "name": "python3"
  },
  "language_info": {
   "codemirror_mode": {
    "name": "ipython",
    "version": 3
   },
   "file_extension": ".py",
   "mimetype": "text/x-python",
   "name": "python",
   "nbconvert_exporter": "python",
   "pygments_lexer": "ipython3",
   "version": "3.12.4"
  }
 },
 "nbformat": 4,
 "nbformat_minor": 5
}
