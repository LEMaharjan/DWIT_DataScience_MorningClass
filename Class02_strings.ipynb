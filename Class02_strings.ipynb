{
 "cells": [
  {
   "cell_type": "code",
   "execution_count": 3,
   "id": "2f369779-3bd6-45fd-b5f9-6f9939542872",
   "metadata": {},
   "outputs": [
    {
     "name": "stdout",
     "output_type": "stream",
     "text": [
      "We are learning python\n",
      "W\n",
      "e\n",
      "n\n",
      "We ar\n",
      "re learning python\n",
      "We are learning python\n",
      "nohtyp gninrael era eW\n"
     ]
    }
   ],
   "source": [
    "#String indexing\n",
    "task = \"We are learning python\"\n",
    "print(task)\n",
    "print(task[0])\n",
    "print(task[1])\n",
    "print(task[-1])\n",
    "\n",
    "#slicing\n",
    "print(task[:5])\n",
    "print(task[4: ])\n",
    "print(task[:])\n",
    "print(task[::-1])"
   ]
  },
  {
   "cell_type": "code",
   "execution_count": 4,
   "id": "6c6f7e1a-8844-4366-b68a-099dc2d28ecc",
   "metadata": {},
   "outputs": [
    {
     "name": "stdout",
     "output_type": "stream",
     "text": [
      "WE ARE LEARNING PYTHON\n"
     ]
    }
   ],
   "source": [
    "print(task.upper())"
   ]
  },
  {
   "cell_type": "code",
   "execution_count": 5,
   "id": "5be01d80-845f-486e-8014-a4ec8008d2d3",
   "metadata": {},
   "outputs": [
    {
     "name": "stdout",
     "output_type": "stream",
     "text": [
      "we are learning python\n"
     ]
    }
   ],
   "source": [
    "print(task.lower())"
   ]
  },
  {
   "cell_type": "code",
   "execution_count": 6,
   "id": "cae2663a-ca5b-4266-bbf7-eb03a49d2ddf",
   "metadata": {},
   "outputs": [
    {
     "name": "stdout",
     "output_type": "stream",
     "text": [
      "3\n",
      "We are learning jython\n"
     ]
    }
   ],
   "source": [
    "print(task.find(\"are\"))\n",
    "print(task.replace('p', 'j'))"
   ]
  },
  {
   "cell_type": "code",
   "execution_count": 7,
   "id": "87876590-d666-44f6-8dff-ccf4e956d2af",
   "metadata": {},
   "outputs": [
    {
     "name": "stdout",
     "output_type": "stream",
     "text": [
      "True\n",
      "22\n"
     ]
    }
   ],
   "source": [
    "print(\"learning\" in task)\n",
    "print(len(task))"
   ]
  },
  {
   "cell_type": "code",
   "execution_count": 13,
   "id": "bf8c155d-94d1-4dd9-973a-222bc58b5386",
   "metadata": {},
   "outputs": [
    {
     "name": "stdout",
     "output_type": "stream",
     "text": [
      "hellohellohellohellohellohellohellohellohellohello\n",
      "|||||\n",
      "00_____\n"
     ]
    }
   ],
   "source": [
    "#random prints\n",
    "print(\"hello\" * 10)\n",
    "print(\"|||||\")\n",
    "print(\"00_____\")"
   ]
  },
  {
   "cell_type": "code",
   "execution_count": 9,
   "id": "e28d2d99-1700-49ce-8b79-6765dc893cc9",
   "metadata": {},
   "outputs": [
    {
     "name": "stdout",
     "output_type": "stream",
     "text": [
      "RamShyam\n"
     ]
    }
   ],
   "source": [
    "#sting Concatenation\n",
    "f_name = \"Ram\"\n",
    "l_name = \"Shyam\"\n",
    "print(f_name + l_name)"
   ]
  },
  {
   "cell_type": "code",
   "execution_count": 8,
   "id": "0310fa23-8a9a-4d40-b653-c4dd8df5db27",
   "metadata": {},
   "outputs": [
    {
     "name": "stdin",
     "output_type": "stream",
     "text": [
      "What is your name? this\n"
     ]
    },
    {
     "name": "stdout",
     "output_type": "stream",
     "text": [
      "this\n"
     ]
    }
   ],
   "source": [
    "#input funcion\n",
    "\n",
    "name = input(\"What is your name?\")\n",
    "print(name)"
   ]
  },
  {
   "cell_type": "code",
   "execution_count": 12,
   "id": "6c3302ff-d42f-4a24-9d07-4823d7785bd3",
   "metadata": {},
   "outputs": [
    {
     "name": "stdin",
     "output_type": "stream",
     "text": [
      "Enter your first name:  Anup\n",
      "Enter your last name:  Maharjan\n"
     ]
    },
    {
     "name": "stdout",
     "output_type": "stream",
     "text": [
      "Hi my name is Anup Maharjan\n"
     ]
    }
   ],
   "source": [
    "f_name = input(\"Enter your first name: \")\n",
    "l_name = input(\"Enter your last name: \")\n",
    "print('Hi my name is ' + f_name +' '+ l_name)"
   ]
  },
  {
   "cell_type": "code",
   "execution_count": 1,
   "id": "90810a78-7361-41d1-8722-9c1beb313f58",
   "metadata": {},
   "outputs": [
    {
     "name": "stdout",
     "output_type": "stream",
     "text": [
      "Ram is 20 years old\n",
      "Ram is 20 years old\n"
     ]
    }
   ],
   "source": [
    "age = 20\n",
    "name = 'Ram' \n",
    "print(name +' is',age,'years old')\n",
    "print(name + ' is ' + str(age) + ' years old')"
   ]
  },
  {
   "cell_type": "code",
   "execution_count": 1,
   "id": "3472bb5e-8a1e-408d-9940-8527ffc4b216",
   "metadata": {},
   "outputs": [
    {
     "name": "stdout",
     "output_type": "stream",
     "text": [
      "My name is Ram and age is 20\n",
      "My name is Ram and age is 20\n",
      "My name is Ram and age is20\n"
     ]
    }
   ],
   "source": [
    "name='Ram'\n",
    "age=20\n",
    "print(\"My name is\",name, \"and age is\", age)\n",
    "print(\"My name is\",name, \"and age is\",age)\n",
    "print(f'My name is {name} and age is{age}')      # introduction of formated string"
   ]
  },
  {
   "cell_type": "code",
   "execution_count": null,
   "id": "1441412d-4886-42fb-b26e-26c13776c664",
   "metadata": {},
   "outputs": [],
   "source": []
  }
 ],
 "metadata": {
  "kernelspec": {
   "display_name": "Python 3 (ipykernel)",
   "language": "python",
   "name": "python3"
  },
  "language_info": {
   "codemirror_mode": {
    "name": "ipython",
    "version": 3
   },
   "file_extension": ".py",
   "mimetype": "text/x-python",
   "name": "python",
   "nbconvert_exporter": "python",
   "pygments_lexer": "ipython3",
   "version": "3.12.4"
  }
 },
 "nbformat": 4,
 "nbformat_minor": 5
}
