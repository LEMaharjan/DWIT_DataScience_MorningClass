{
 "cells": [
  {
   "cell_type": "code",
   "execution_count": 8,
   "id": "7da97914-42a4-48b6-8ba2-ccfa7edf810f",
   "metadata": {},
   "outputs": [
    {
     "name": "stdin",
     "output_type": "stream",
     "text": [
      "Please enter your name iuhknjl\n"
     ]
    },
    {
     "name": "stdout",
     "output_type": "stream",
     "text": [
      "Your name is good\n"
     ]
    }
   ],
   "source": [
    "name = input('Please enter your name')\n",
    "if len(name) < 5:\n",
    "    print(\"your name is too short\")\n",
    "elif len(name) > 8:\n",
    "    print(\"Your name is too long\")\n",
    "else:\n",
    "    print(\"Your name is good\")"
   ]
  },
  {
   "cell_type": "code",
   "execution_count": 8,
   "id": "ec3fdbcd-d5ef-4b53-af83-6f0ae1a7ef9e",
   "metadata": {},
   "outputs": [
    {
     "name": "stdin",
     "output_type": "stream",
     "text": [
      "enter the 1st boolean in True of False \n",
      "enter the 2nd boolean in True of False p\n"
     ]
    },
    {
     "name": "stdout",
     "output_type": "stream",
     "text": [
      "False\n",
      "True\n",
      "bit0 is true and bit1 if false\n"
     ]
    }
   ],
   "source": [
    "bit0 = bool(input(\"enter the 1st boolean in True of False\"))\n",
    "bit1 = bool(input(\"enter the 2nd boolean in True of False\"))\n",
    "print(bit0)\n",
    "print(bit1)\n",
    "if bit0 and bit1:\n",
    "    print(\"both are true\")\n",
    "elif bit0 or bit1:\n",
    "    print(\"bit0 is true and bit1 if false\")\n",
    "elif bit0 or bit1:\n",
    "    print(\"bit0 is false and bit1 is true\")\n",
    "else:\n",
    "    print(\"both bit are false\")"
   ]
  },
  {
   "cell_type": "code",
   "execution_count": null,
   "id": "15c57ba8-4e71-4d86-ac80-a9a7fc30a445",
   "metadata": {},
   "outputs": [],
   "source": []
  }
 ],
 "metadata": {
  "kernelspec": {
   "display_name": "Python 3 (ipykernel)",
   "language": "python",
   "name": "python3"
  },
  "language_info": {
   "codemirror_mode": {
    "name": "ipython",
    "version": 3
   },
   "file_extension": ".py",
   "mimetype": "text/x-python",
   "name": "python",
   "nbconvert_exporter": "python",
   "pygments_lexer": "ipython3",
   "version": "3.12.4"
  }
 },
 "nbformat": 4,
 "nbformat_minor": 5
}
