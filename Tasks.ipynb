{
 "cells": [
  {
   "cell_type": "code",
   "execution_count": 1,
   "id": "64183311-40ba-477a-8804-37f86c7eba55",
   "metadata": {},
   "outputs": [
    {
     "name": "stdout",
     "output_type": "stream",
     "text": [
      "my name is Hari Chandra\n",
      "my name is Hari Chandra\n",
      "my name is HARI chandra\n"
     ]
    }
   ],
   "source": [
    "\n",
    "f_name = \"Hari\"\n",
    "l_name = \"Chandra\"\n",
    "\n",
    "print(\"my name is\", f_name, l_name)\n",
    "print(\"my name is \" + f_name + \" \" + l_name)\n",
    "print(\"my name is \" + f_name.upper() + \" \"+ l_name.lower())"
   ]
  },
  {
   "cell_type": "code",
   "execution_count": 10,
   "id": "aac9e4dd-7726-4fd2-9de9-84e082f014de",
   "metadata": {},
   "outputs": [
    {
     "name": "stdout",
     "output_type": "stream",
     "text": [
      "My name is Ram and age is 20\n",
      "My name is Ram and age is 20\n",
      "My name is Ram and age is20\n"
     ]
    }
   ],
   "source": [
    "name='Ram'\n",
    "age=20\n",
    "print(\"My name is\",name, \"and age is\", age)\n",
    "print(\"My name is\",name, \"and age is\",age)\n",
    "print(f'My name is {name} and age is{age}')      # introduction of formated string"
   ]
  },
  {
   "cell_type": "code",
   "execution_count": null,
   "id": "4e73e15f-a272-4ab4-b5fd-113aa7c3cece",
   "metadata": {},
   "outputs": [],
   "source": []
  }
 ],
 "metadata": {
  "kernelspec": {
   "display_name": "Python 3 (ipykernel)",
   "language": "python",
   "name": "python3"
  },
  "language_info": {
   "codemirror_mode": {
    "name": "ipython",
    "version": 3
   },
   "file_extension": ".py",
   "mimetype": "text/x-python",
   "name": "python",
   "nbconvert_exporter": "python",
   "pygments_lexer": "ipython3",
   "version": "3.12.4"
  }
 },
 "nbformat": 4,
 "nbformat_minor": 5
}
