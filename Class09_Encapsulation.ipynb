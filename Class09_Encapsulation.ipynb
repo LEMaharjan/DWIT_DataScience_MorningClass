{
 "cells": [
  {
   "cell_type": "markdown",
   "id": "eae7135f-3d47-43f7-a6e3-b515c356ef19",
   "metadata": {},
   "source": [
    "# Encapsulation (hiding data information)"
   ]
  },
  {
   "cell_type": "code",
   "execution_count": 11,
   "id": "6a16f0bf-88d9-4eba-bfb3-42b3876d32e1",
   "metadata": {},
   "outputs": [
    {
     "name": "stdout",
     "output_type": "stream",
     "text": [
      "Shouting Ram\n"
     ]
    }
   ],
   "source": [
    "class PlayerCharacter:\n",
    "    def __init__(self, name, age):\n",
    "        self.name = name\n",
    "        self.age = age\n",
    "\n",
    "\n",
    "    def run(self):\n",
    "        print(\"Running\")\n",
    "\n",
    "\n",
    "    def shout(self):\n",
    "        print(f'Shouting {self.name}')\n",
    "\n",
    "\n",
    "\n",
    "player1 = PlayerCharacter('Ram', 20)\n",
    "player1.shout()\n"
   ]
  },
  {
   "cell_type": "code",
   "execution_count": 2,
   "id": "6d053256-4dd7-40d4-ac0a-97d003bd4b1b",
   "metadata": {},
   "outputs": [
    {
     "name": "stdout",
     "output_type": "stream",
     "text": [
      "Shyam\n"
     ]
    }
   ],
   "source": [
    "player2 ={'name' : 'Shyam', 'age' : 15}\n",
    "print(player2['name'])"
   ]
  },
  {
   "cell_type": "code",
   "execution_count": 3,
   "id": "174ad847-8926-4515-9a4d-9a7992b2f4c6",
   "metadata": {},
   "outputs": [
    {
     "name": "stdout",
     "output_type": "stream",
     "text": [
      "15\n"
     ]
    }
   ],
   "source": [
    "\n",
    "print(player2.get('age'))"
   ]
  },
  {
   "cell_type": "code",
   "execution_count": 4,
   "id": "51f73ce3-b1b8-4d7a-ae42-51772bb91f7b",
   "metadata": {},
   "outputs": [
    {
     "name": "stdout",
     "output_type": "stream",
     "text": [
      "True\n",
      "False\n",
      "True\n",
      "True\n",
      "True\n",
      "True\n"
     ]
    }
   ],
   "source": [
    "class User():\n",
    "    def sign_in():\n",
    "        pass\n",
    "\n",
    "class Wizard(User):\n",
    "    pass\n",
    "\n",
    "class Archer(User):\n",
    "    pass\n",
    "\n",
    "wizard1 = Wizard()\n",
    "print(isinstance(wizard1,Wizard))\n",
    "print(isinstance(wizard1,Archer))\n",
    "print(isinstance(wizard1,User))\n",
    "print(isinstance(wizard1,object))\n",
    "print(isinstance(Wizard,object))\n",
    "print(isinstance(User,object))"
   ]
  },
  {
   "cell_type": "markdown",
   "id": "cd0d3342-5152-4b0b-8e3d-cc832b70fee6",
   "metadata": {},
   "source": [
    "# Private vs Public variable"
   ]
  },
  {
   "cell_type": "code",
   "execution_count": 18,
   "id": "ff68caff-74e4-427e-b893-df85b4f5c63d",
   "metadata": {},
   "outputs": [
    {
     "name": "stdout",
     "output_type": "stream",
     "text": [
      "100\n",
      "Deposited 500. New balance: 600\n",
      "Joe\n"
     ]
    }
   ],
   "source": [
    "class BankAccout:\n",
    "    def __init__(self, owner, balance=0):\n",
    "        self.owner = owner               #public variable/attribute\n",
    "        self.__balance = balance          #private barialbe/attribute\n",
    "\n",
    "\n",
    "    def deposit(self, amount):\n",
    "        if amount > 0:\n",
    "            self.__balance += amount\n",
    "            print(f'Deposited {amount}. New balance: {self.__balance}')\n",
    "        else:\n",
    "            print('Deposited amount must be positive')\n",
    "\n",
    "    def get_balance(self):\n",
    "         return self.__balance\n",
    "\n",
    "account = BankAccout('Joe', 100)\n",
    "print(account.get_balance())\n",
    "account.deposit(500)     ## able to print __balance because it is printed within the class.\n",
    "print(account.owner)\n",
    "#print(account.__balance) ## send error because it is called outside the class although it is an object."
   ]
  },
  {
   "cell_type": "markdown",
   "id": "e8a2522e-3d82-420d-8bb3-28f8b9e3b149",
   "metadata": {},
   "source": [
    "# Polymorphism      \n",
    "single name, multiple functions, occuring in several different forms."
   ]
  },
  {
   "cell_type": "code",
   "execution_count": 37,
   "id": "b0616f74-ba43-4e5a-85e5-f26c53ad4989",
   "metadata": {},
   "outputs": [
    {
     "name": "stdout",
     "output_type": "stream",
     "text": [
      "Strayperson attacking with the power of 1\n",
      "Merlin attacking with the power of 60\n",
      "Joe attacking with arrows: arrows_left 40 by Joe\n"
     ]
    }
   ],
   "source": [
    "class User:\n",
    "    def __init__(self, name, power):\n",
    "        self.name = name\n",
    "        self.power = power\n",
    "\n",
    "    def attack(self):\n",
    "        print(f'{self.name} attacking with the User Class')\n",
    "\n",
    "class Normal(User):                      # no constructors are defined for this class, but it is inheriting the default class \"User\"\n",
    "\n",
    "    def attack(self):\n",
    "        print(f'{self.name} attacking with the power of {self.power}')   #self.name and self.power variables are inherited from the \"User\" class\n",
    "        \n",
    "\n",
    "class Wizard(User):\n",
    "    def __init__(self, name, power):     #constructors are initialized, so the parameters can be fed while creating an object\n",
    "        self.wizard_name = name\n",
    "        self.wizard_power = power\n",
    "    \n",
    "    \n",
    "    def attack(self):\n",
    "        print(f'{self.wizard_name} attacking with the power of {self.wizard_power}')\n",
    "\n",
    "\n",
    "class Archer(User):\n",
    "    def __init__(self, name, num_arrows):\n",
    "        self.archer_name = name\n",
    "        self.archer_num_arrows = num_arrows\n",
    "\n",
    "\n",
    "    def attack(self):\n",
    "        print(f'{self.archer_name} attacking with arrows: arrows_left {self.archer_num_arrows} by {self.archer_name}')\n",
    "\n",
    "#This class has no constructor.\n",
    "#Object is initialized with parameter because it inherits class \"User\" with 2 parameters\n",
    "normal1 = Normal('Strayperson',1)   \n",
    "normal1.attack()\n",
    "\n",
    "\n",
    "#This object can run irrespective of the inheritance of class \"User\" because the Class Wizard has constructor within itself\n",
    "wizard1 = Wizard('Merlin', 60)\n",
    "wizard1.attack()\n",
    "\n",
    "\n",
    "#This object can run irrespective of the inheritance of class \"User\" because the Class Wizard has constructor within itself\n",
    "archer1 = Archer('Joe', 40)\n",
    "archer1.attack()\n",
    "    "
   ]
  },
  {
   "cell_type": "code",
   "execution_count": 35,
   "id": "13f11d6d-a8b5-4f66-8e4d-25601619f798",
   "metadata": {},
   "outputs": [
    {
     "name": "stdout",
     "output_type": "stream",
     "text": [
      "Merlin attacking with the power of 60\n",
      "Joe attacking with arrows: arrows_left 40 by Joe\n"
     ]
    }
   ],
   "source": [
    "# defining the function, it can take any type of arguments,\"string, int, dict and even objects\".\n",
    "# This is irrespective to class.\n",
    "\n",
    "def player_attack(obj):  \n",
    "    # calling the attack() method of the object.\n",
    "    # This will only work if we parse \"OBJECT\" as an argument for the above function and the class \"MUST\" have \"attack()\" function defined within it.\n",
    "    obj.attack()            \n",
    "    \n",
    "player_attack(wizard1)\n",
    "player_attack(archer1)\n",
    "#player_attack(\"Ram\")   #It will generate error, because we are parsing the argument other than object in the function."
   ]
  },
  {
   "cell_type": "code",
   "execution_count": 39,
   "id": "7ed1b4d3-912b-49e6-81d7-130ae79fef7a",
   "metadata": {},
   "outputs": [
    {
     "name": "stdout",
     "output_type": "stream",
     "text": [
      "Merlin attacking with the power of 60\n"
     ]
    },
    {
     "ename": "NameError",
     "evalue": "name 'self' is not defined",
     "output_type": "error",
     "traceback": [
      "\u001b[0;31m---------------------------------------------------------------------------\u001b[0m",
      "\u001b[0;31mNameError\u001b[0m                                 Traceback (most recent call last)",
      "Cell \u001b[0;32mIn[39], line 5\u001b[0m\n\u001b[1;32m      3\u001b[0m \u001b[38;5;28;01mfor\u001b[39;00m a \u001b[38;5;129;01min\u001b[39;00m [wizard1, archer1, Ram \u001b[38;5;241m:=\u001b[39m Archer(\u001b[38;5;124m'\u001b[39m\u001b[38;5;124mRam\u001b[39m\u001b[38;5;124m'\u001b[39m,\u001b[38;5;241m100\u001b[39m)]:    \n\u001b[1;32m      4\u001b[0m     a\u001b[38;5;241m.\u001b[39mattack()\n\u001b[0;32m----> 5\u001b[0m     User\u001b[38;5;241m.\u001b[39mattack(\u001b[38;5;28;43mself\u001b[39;49m)\n",
      "\u001b[0;31mNameError\u001b[0m: name 'self' is not defined"
     ]
    }
   ],
   "source": [
    "# for looping in the list having objects as parameters, similar to int as parameters\n",
    "# All items in the list must be object because it is calling \"attack()\" method of the Object\n",
    "for a in [wizard1, archer1, Ram := Archer('Ram',100)]:    \n",
    "    a.attack()"
   ]
  },
  {
   "cell_type": "markdown",
   "id": "a39ec6a2-fe8f-4663-a498-8d0e64b1d936",
   "metadata": {},
   "source": [
    "# Inheritance Polymorphism"
   ]
  },
  {
   "cell_type": "code",
   "execution_count": 105,
   "id": "6b06f07f-dae4-481d-bed2-637390ced200",
   "metadata": {},
   "outputs": [
    {
     "name": "stdout",
     "output_type": "stream",
     "text": [
      "Wizard Class initialized\n",
      "User Class initialized\n",
      "User Name = Merlin\n",
      "User Email = User Email\n",
      "WIZARD CLASS Wizard Name= Merlin attacking with the power of Wizard Power = 60\n",
      "GETTING FROM USER CLASS User Email = User Email\n",
      "GETTING FROM WIZARD CLASS User Email = Merlin@gmail.com\n",
      "Archer Class initialized\n",
      "User Class initialized\n",
      "User Name = Joe\n",
      "User Email = User Email\n",
      "ARCHER CLASS Archer Name = Joe attacking with arrows: arrows_left Archer Num Arrows = 40\n",
      "GETTING FROM USER CLASS User Email = User Email\n",
      "USER.NAME = Joe\n",
      "USER.EMAIL = User Email\n"
     ]
    }
   ],
   "source": [
    "class User:\n",
    "    def __init__(self,name,email):\n",
    "        print('User Class initialized')\n",
    "        self.name = name\n",
    "        print(f'User Name = {self.name}')\n",
    "        self.email = 'User Email'\n",
    "        print(f'User Email = {self.email}')\n",
    "\n",
    "    def attack(self):\n",
    "        print(f'USER.NAME = {self.name}')\n",
    "        print(f'USER.EMAIL = {self.email}')\n",
    "\n",
    "\n",
    "class Normal(User):                      # no constructors are defined for this class, but it is inheriting the default class \"User\"\n",
    "    def attack(self):\n",
    "        print(f'NORMAL CLASS {self.name} attacking with the power of {self.email}')   #self.name and self.power variables are inherited from the \"User\" class\n",
    "        \n",
    "\n",
    "class Wizard(User):\n",
    "    def __init__(self,name, power,email):     #constructors are initialized, so the parameters can be fed while creating an object\n",
    "        print('Wizard Class initialized')\n",
    "        super().__init__(name,email)         #NO NEED TO HAVE SELF ARGUMENT HERE AS IT IS WORKING AS FUNCTION TO CALL THE PARENT CLASS\n",
    "        #self.email = email                  #not commenting this line will print from the self.email, else it will print from User.email\n",
    "        self.wizard_email = email\n",
    "        self.wizard_name = name\n",
    "        self.wizard_power = power\n",
    "    \n",
    "    \n",
    "    def attack(self):\n",
    "        print(f'WIZARD CLASS Wizard Name= {self.wizard_name} attacking with the power of Wizard Power = {self.wizard_power}')\n",
    "        print(f'GETTING FROM USER CLASS User Email = {self.email}')\n",
    "        print(f'GETTING FROM WIZARD CLASS User Email = {self.wizard_email}')\n",
    "        \n",
    "\n",
    "\n",
    "class Archer(User):\n",
    "    def __init__(self, name, num_arrows, email):\n",
    "        print('Archer Class initialized')\n",
    "        super().__init__(name, email)\n",
    "        self.archer_name = name\n",
    "        self.archer_num_arrows = num_arrows\n",
    "        \n",
    "\n",
    "\n",
    "    def attack(self):\n",
    "        print(f'ARCHER CLASS Archer Name = {self.archer_name} attacking with arrows: arrows_left Archer Num Arrows = {self.archer_num_arrows}')\n",
    "        print(f'GETTING FROM USER CLASS User Email = {self.email}')\n",
    "        User.attack(self)\n",
    "        \n",
    "#This class has no constructor.\n",
    "#Object is initialized with parameter because it inherits class \"User\" with 2 parameters\n",
    "#normal1 = Normal('Strayperson','strayperson@gmail.com')   \n",
    "#normal1.attack()\n",
    "\n",
    "\n",
    "#This object can run irrespective of the inheritance of class \"User\" because the Class Wizard has constructor within itself\n",
    "wizard1 = Wizard('Merlin', 60,'Merlin@gmail.com')\n",
    "wizard1.attack()\n",
    "\n",
    "\n",
    "#This object can run irrespective of the inheritance of class \"User\" because the Class Wizard has constructor within itself\n",
    "archer1 = Archer('Joe', 40,'Joe@gmail,com')\n",
    "archer1.attack()\n",
    "    "
   ]
  },
  {
   "cell_type": "code",
   "execution_count": null,
   "id": "96f52587-1c7a-4983-9c03-39e1bfbbc54f",
   "metadata": {},
   "outputs": [],
   "source": []
  },
  {
   "cell_type": "code",
   "execution_count": null,
   "id": "4bbe56e3-6f70-4df0-8ea0-af7dc5c3fd73",
   "metadata": {},
   "outputs": [],
   "source": []
  }
 ],
 "metadata": {
  "kernelspec": {
   "display_name": "Python 3 (ipykernel)",
   "language": "python",
   "name": "python3"
  },
  "language_info": {
   "codemirror_mode": {
    "name": "ipython",
    "version": 3
   },
   "file_extension": ".py",
   "mimetype": "text/x-python",
   "name": "python",
   "nbconvert_exporter": "python",
   "pygments_lexer": "ipython3",
   "version": "3.12.4"
  }
 },
 "nbformat": 4,
 "nbformat_minor": 5
}
