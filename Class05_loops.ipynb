{
 "cells": [
  {
   "cell_type": "markdown",
   "id": "606214a2-a12f-4396-94f5-0c68074921dc",
   "metadata": {},
   "source": [
    "# Loops"
   ]
  },
  {
   "cell_type": "code",
   "execution_count": 1,
   "id": "7b3a38fa-9aeb-40f9-9942-31031993e694",
   "metadata": {},
   "outputs": [
    {
     "name": "stdout",
     "output_type": "stream",
     "text": [
      "p\n",
      "y\n",
      "t\n",
      "h\n",
      "o\n",
      "n\n"
     ]
    }
   ],
   "source": [
    "for item in 'python':     #strings\n",
    "    print(item)"
   ]
  },
  {
   "cell_type": "code",
   "execution_count": 2,
   "id": "06e29f68-687a-48ea-a6f4-210f6510cd4a",
   "metadata": {
    "scrolled": true
   },
   "outputs": [
    {
     "name": "stdout",
     "output_type": "stream",
     "text": [
      "Ram\n",
      "6\n",
      "False\n",
      "9.0\n"
     ]
    }
   ],
   "source": [
    "for item in ('Ram',6,False, 9.0):     #tuples\n",
    "    print(item)"
   ]
  },
  {
   "cell_type": "code",
   "execution_count": 3,
   "id": "511cb539-1335-483d-bbfe-1b2a1b2691b6",
   "metadata": {
    "scrolled": true
   },
   "outputs": [
    {
     "name": "stdout",
     "output_type": "stream",
     "text": [
      "This is list\n",
      "1\n",
      "99.0\n",
      "True\n"
     ]
    }
   ],
   "source": [
    "for item in ['This is list', 1, 99.0, True]:       #lists\n",
    "    print(item)"
   ]
  },
  {
   "cell_type": "code",
   "execution_count": 23,
   "id": "4d90463e-1706-42cb-bf12-bcee5eb4bff1",
   "metadata": {},
   "outputs": [
    {
     "name": "stdout",
     "output_type": "stream",
     "text": [
      "('a', 1)\n",
      "('b', 2)\n"
     ]
    }
   ],
   "source": [
    "for item in {'a':1,'b':2}.items():         #dictionary\n",
    "    print(item)"
   ]
  },
  {
   "cell_type": "code",
   "execution_count": 9,
   "id": "e477b83f-61a9-44ec-9eb2-1a95847bbb2a",
   "metadata": {},
   "outputs": [
    {
     "name": "stdout",
     "output_type": "stream",
     "text": [
      "0\n",
      "1\n",
      "2\n",
      "3\n",
      "4\n"
     ]
    }
   ],
   "source": [
    "for item in range(5):      #range is used to make int object iterable\n",
    "    print(item)"
   ]
  },
  {
   "cell_type": "markdown",
   "id": "5bcfed6e-d157-4e18-9e6e-4d7d28530495",
   "metadata": {},
   "source": [
    "# While loop\n",
    "It needs breaking conditions to get out of loop else need error handling method"
   ]
  },
  {
   "cell_type": "code",
   "execution_count": 25,
   "id": "25c626a9-f139-4254-81d5-ff9019f37101",
   "metadata": {},
   "outputs": [
    {
     "name": "stdin",
     "output_type": "stream",
     "text": [
      "What is your name:  Anup\n",
      "What is your name:  pinas\n"
     ]
    }
   ],
   "source": [
    "while True:\n",
    "    name = input('What is your name: ')\n",
    "    if len(name) == 5:\n",
    "        break"
   ]
  },
  {
   "cell_type": "code",
   "execution_count": 27,
   "id": "0d62e153-dda7-4398-8999-5016c85fcf52",
   "metadata": {},
   "outputs": [
    {
     "name": "stdin",
     "output_type": "stream",
     "text": [
      "What is your name:  i\n",
      "What is your name:  k\n",
      "What is your name:  k\n",
      "What is your name:  h\n",
      "What is your name:  hg\n"
     ]
    },
    {
     "name": "stdout",
     "output_type": "stream",
     "text": [
      "you have tried 5 times!!!\n"
     ]
    }
   ],
   "source": [
    "i = 0\n",
    "while i < 5:\n",
    "    name = input('What is your name: ')\n",
    "    i+=1\n",
    "    if name == 'Ram':\n",
    "        break\n",
    "else:\n",
    "    print('you have tried 5 times!!!')\n",
    "                 "
   ]
  },
  {
   "cell_type": "code",
   "execution_count": 2,
   "id": "816a6d8a-3a02-49cc-80c0-0c7fdcd30e51",
   "metadata": {},
   "outputs": [
    {
     "name": "stdin",
     "output_type": "stream",
     "text": [
      "What is your age 40\n"
     ]
    },
    {
     "name": "stdout",
     "output_type": "stream",
     "text": [
      "1.0\n"
     ]
    }
   ],
   "source": [
    "age = int(input('What is your age'))\n",
    "risk = 40/age\n",
    "print(risk)"
   ]
  },
  {
   "cell_type": "code",
   "execution_count": 1,
   "id": "663a629b-dbd9-47a4-8edb-6f038f9ed3fe",
   "metadata": {},
   "outputs": [
    {
     "name": "stdin",
     "output_type": "stream",
     "text": [
      "What is your age o\n"
     ]
    },
    {
     "ename": "ValueError",
     "evalue": "invalid literal for int() with base 10: 'o'",
     "output_type": "error",
     "traceback": [
      "\u001b[0;31m---------------------------------------------------------------------------\u001b[0m",
      "\u001b[0;31mValueError\u001b[0m                                Traceback (most recent call last)",
      "Cell \u001b[0;32mIn[1], line 2\u001b[0m\n\u001b[1;32m      1\u001b[0m \u001b[38;5;28;01mwhile\u001b[39;00m \u001b[38;5;28;01mTrue\u001b[39;00m:\n\u001b[0;32m----> 2\u001b[0m     age \u001b[38;5;241m=\u001b[39m \u001b[38;5;28;43mint\u001b[39;49m\u001b[43m(\u001b[49m\u001b[38;5;28;43minput\u001b[39;49m\u001b[43m(\u001b[49m\u001b[38;5;124;43m'\u001b[39;49m\u001b[38;5;124;43mWhat is your age\u001b[39;49m\u001b[38;5;124;43m'\u001b[39;49m\u001b[43m)\u001b[49m\u001b[43m)\u001b[49m\n\u001b[1;32m      3\u001b[0m     risk \u001b[38;5;241m=\u001b[39m \u001b[38;5;241m40\u001b[39m\u001b[38;5;241m/\u001b[39mage\n\u001b[1;32m      4\u001b[0m     \u001b[38;5;28;01mif\u001b[39;00m risk \u001b[38;5;241m==\u001b[39m \u001b[38;5;241m1\u001b[39m:\n",
      "\u001b[0;31mValueError\u001b[0m: invalid literal for int() with base 10: 'o'"
     ]
    }
   ],
   "source": [
    "while True:\n",
    "    age = int(input('What is your age'))\n",
    "    risk = 40/age\n",
    "    if risk == 1:\n",
    "        break\n",
    "    print(risk)\n",
    "    "
   ]
  },
  {
   "cell_type": "markdown",
   "id": "efe77230-c977-4581-9cfe-8273e47cbff2",
   "metadata": {},
   "source": [
    "# Error Handlings\n",
    "try:\n",
    "\n",
    "except ____Error:"
   ]
  },
  {
   "cell_type": "code",
   "execution_count": 6,
   "id": "56345f3c-32a0-40ce-8db5-36cfad3bc5f0",
   "metadata": {},
   "outputs": [
    {
     "name": "stdin",
     "output_type": "stream",
     "text": [
      "What is your age:  p\n"
     ]
    },
    {
     "name": "stdout",
     "output_type": "stream",
     "text": [
      "Please enter the numeric values. Age cannot be string\n"
     ]
    },
    {
     "name": "stdin",
     "output_type": "stream",
     "text": [
      "What is your age:  0\n"
     ]
    },
    {
     "name": "stdout",
     "output_type": "stream",
     "text": [
      "Age cannot be zero\n"
     ]
    },
    {
     "name": "stdin",
     "output_type": "stream",
     "text": [
      "What is your age:  9\n"
     ]
    },
    {
     "name": "stdout",
     "output_type": "stream",
     "text": [
      "4.444444444444445\n"
     ]
    },
    {
     "name": "stdin",
     "output_type": "stream",
     "text": [
      "What is your age:  40\n"
     ]
    }
   ],
   "source": [
    "while True:\n",
    "    try:\n",
    "        age = int(input('What is your age: '))\n",
    "        risk = 40/age\n",
    "        if risk == 1:\n",
    "            break\n",
    "        print(risk)\n",
    "    except ValueError:\n",
    "        print(\"Please enter the numeric values. Age cannot be string\")\n",
    "    except ZeroDivisionError:\n",
    "        print(\"Age cannot be zero\")\n",
    "          "
   ]
  },
  {
   "cell_type": "markdown",
   "id": "36ae4aa3-01b9-4f8d-a5e3-e13eda1ae6c7",
   "metadata": {},
   "source": [
    "# Task Weight Converter"
   ]
  },
  {
   "cell_type": "code",
   "execution_count": null,
   "id": "382808c3-46fd-4418-8c91-ff70da1cda61",
   "metadata": {},
   "outputs": [],
   "source": [
    "weight = input('What is your weight: ')\n",
    "unit = input('Please enter (k) for kgs and (L) for lbs(pounds): ')\n",
    "if unit == K:\n",
    "    converted = weight/0.45\n",
    "    print(f'You are {converted} kilograms')\n",
    "else:\n",
    "    converted = weight *0.45\n",
    "    print(f'You are {converted} kilograms')"
   ]
  },
  {
   "cell_type": "code",
   "execution_count": 1,
   "id": "5d3722c9-f743-413c-9dda-44d2ceee17c7",
   "metadata": {},
   "outputs": [
    {
     "name": "stdin",
     "output_type": "stream",
     "text": [
      "What is your weight:  89\n",
      "Please enter (K) for kgs and (L) for lbs(pounds):  \n"
     ]
    },
    {
     "name": "stdout",
     "output_type": "stream",
     "text": [
      "You didnt choose the unit correctly!!!!!\n",
      "\n",
      "==========Thank you for using weight calculator😇😇==========\n",
      "==========================Good Day===========================\n"
     ]
    }
   ],
   "source": [
    "\n",
    "\n",
    "while True:\n",
    "    try:\n",
    "        weight = int(input('What is your weight: '))\n",
    "        unit = input('Please enter (K) for kgs and (L) for lbs(pounds): ')\n",
    "        if unit.upper() == 'K':\n",
    "            converted = weight / 0.45\n",
    "            print(f'You are {converted} pounds')\n",
    "        elif unit.upper() == 'L':\n",
    "            converted = weight * 0.45\n",
    "            print(f'You are {converted} kilograms')\n",
    "        else:\n",
    "            print(\"You didnt choose the unit correctly!!!!!\")\n",
    "    except ValueError:\n",
    "        print(\"Weight must be an integer!!!!\")\n",
    "        #print('Please run the code again because you gave the string value in weight')\n",
    "        #break\n",
    "    else:       #this statement runs if the try catch doesnt run\n",
    "        print('\\n==========Thank you for using weight calculator😇😇==========')\n",
    "        break\n",
    "    finally:    #this statement runs in any condition\n",
    "        print('==========================Good Day===========================')\n",
    "    print('\\n')\n",
    "#print('Please run the code again because you gave the string value in weight'"
   ]
  },
  {
   "cell_type": "code",
   "execution_count": null,
   "id": "1291f267-6ed4-4e10-afde-8b0886fe1cef",
   "metadata": {},
   "outputs": [],
   "source": []
  }
 ],
 "metadata": {
  "kernelspec": {
   "display_name": "Python 3 (ipykernel)",
   "language": "python",
   "name": "python3"
  },
  "language_info": {
   "codemirror_mode": {
    "name": "ipython",
    "version": 3
   },
   "file_extension": ".py",
   "mimetype": "text/x-python",
   "name": "python",
   "nbconvert_exporter": "python",
   "pygments_lexer": "ipython3",
   "version": "3.12.4"
  }
 },
 "nbformat": 4,
 "nbformat_minor": 5
}
