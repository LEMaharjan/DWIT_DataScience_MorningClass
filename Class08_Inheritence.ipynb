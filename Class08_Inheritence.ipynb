{
 "cells": [
  {
   "cell_type": "markdown",
   "id": "912d77e6-5162-4c56-b044-b2db4a7ae40b",
   "metadata": {},
   "source": [
    "# Inheritence"
   ]
  },
  {
   "cell_type": "code",
   "execution_count": 6,
   "id": "ed9065c2-54dd-4081-8464-2ebab2f078d2",
   "metadata": {},
   "outputs": [
    {
     "name": "stdout",
     "output_type": "stream",
     "text": [
      "I am RUNNING\n",
      "I am BARKING\n",
      "I am RUNNING\n",
      "I am WALKING\n"
     ]
    }
   ],
   "source": [
    "class Mammal:\n",
    "    def walk(self):\n",
    "        print(\"I am WALKING\")\n",
    "    def run(self):\n",
    "        print(\"I am RUNNING\")\n",
    "\n",
    "\n",
    "class Dog(Mammal):         # parsing another class as an argument will inherit the functions within that parsed class.\n",
    "    def bark(self):\n",
    "        print(\"I am BARKING\")\n",
    "\n",
    "class Cat(Dog):            # parsing the \"class which already inherit another class\" is allowable\n",
    "    def annoy():\n",
    "        print(\"I am ANNOYING\")\n",
    "\n",
    "\n",
    "mammal = Mammal()\n",
    "mammal.run()\n",
    "\n",
    "dog = Dog()\n",
    "dog.bark()\n",
    "dog.run()\n",
    "\n",
    "cat = Cat()\n",
    "cat.walk()"
   ]
  },
  {
   "cell_type": "markdown",
   "id": "75567c8b-ab7b-4931-ba25-a6469f647b48",
   "metadata": {},
   "source": [
    "# Class Method and Static Method"
   ]
  },
  {
   "cell_type": "code",
   "execution_count": 23,
   "id": "1482249f-fd06-4ab8-a91c-6f8428d8b678",
   "metadata": {},
   "outputs": [
    {
     "name": "stdout",
     "output_type": "stream",
     "text": [
      "9\n",
      "15\n"
     ]
    }
   ],
   "source": [
    "class PlayerCharacter:\n",
    "    membership = True\n",
    "    def __init__(self, name, age,):\n",
    "        self.name = name\n",
    "        self.age = age\n",
    "      #  self.address = address\n",
    "\n",
    "    def shout(self):\n",
    "        print(f'my name is {self.name}')\n",
    "\n",
    "    @staticmethod                             #\n",
    "    def adding_things(self, num1, num2):\n",
    "        return num1+num2\n",
    "\n",
    "\n",
    "player1 = PlayerCharacter('Ram', 28)   ## Creating Object\n",
    "print(player1.adding_things(\"Shyam\",5,4))\n",
    "\n",
    "player2 = PlayerCharacter.adding_things(\"Ram\",7,8)     ##This is NOT OBJECT, we are calling method. Class methiod can be called while creating\n",
    "print(player2)"
   ]
  },
  {
   "cell_type": "code",
   "execution_count": 19,
   "id": "278928ba-0783-430b-b4a2-430019ee492c",
   "metadata": {},
   "outputs": [
    {
     "name": "stdout",
     "output_type": "stream",
     "text": [
      "<__main__.PlayerCharacter object at 0x107fb0500>\n",
      "7\n",
      "8\n",
      "Teddy\n"
     ]
    }
   ],
   "source": [
    "class PlayerCharacter:\n",
    "    membership = True\n",
    "    def __init__(self,address, name, age):\n",
    "        self.address = address\n",
    "        self.name = name\n",
    "        self.age = age\n",
    "\n",
    "    def shout(self):\n",
    "        print(f'my name is {self.name}')\n",
    "\n",
    "    @classmethod                             \n",
    "    def adding_things(self, num1, num2):\n",
    "        return self('Teddy', num1, num2)     #class method can run even without object and cal also serve constructors.\n",
    "\n",
    "\n",
    "#player1 = PlayerCharacter('Ram', 28)\n",
    "#print(player1.adding_things(5,4))\n",
    "\n",
    "player2 = PlayerCharacter.adding_things(7,8)\n",
    "print(player2)\n",
    "\n",
    "print(player2.name)\n",
    "print(player2.age)\n",
    "print(player2.address)"
   ]
  },
  {
   "cell_type": "markdown",
   "id": "d9e4faf2-c7ae-4f8f-9ab7-0d2c3c927d90",
   "metadata": {},
   "source": [
    "\n",
    "# Encapsulation (hiding data information)"
   ]
  },
  {
   "cell_type": "code",
   "execution_count": 30,
   "id": "c5103596-87ce-4e6e-871b-aaee22956493",
   "metadata": {},
   "outputs": [
    {
     "name": "stdout",
     "output_type": "stream",
     "text": [
      "Fan provided air in the classroom\n",
      "Monitor displays the content in the classroom for Ram monitor_var120\n",
      "Ram is 19 years old\n"
     ]
    }
   ],
   "source": [
    "class Classroom:              #pascal convention of capitalizing first letter of classname\n",
    "    value = 20\n",
    "    if value >15:\n",
    "        def __init__(self,x,y):         #constructors are the functions that gets initialized at the time of creating objects.\n",
    "            if y > 18:\n",
    "                self.name = x\n",
    "                self.age = y\n",
    "            \n",
    "    def monitor(self, monitor_argument1):        # self references the current object in memory\n",
    "        monitor_var1 = 'monitor_var1'\n",
    "        monitor_var2 = 20\n",
    "        self.var3 = 'self variable'\n",
    "        print(f'Monitor displays the content in the classroom for {self.name} {monitor_var1}{monitor_var2}')\n",
    "\n",
    "    \n",
    "    def fan(self):            #functions of class but a method for object\n",
    "        print('Fan provided air in the classroom')\n",
    "\n",
    "\n",
    "student1 = Classroom('Ram',19)       # the filter is applied by value here\n",
    "student1.fan()\n",
    "student1.monitor(\"Shyam\")\n",
    "print(f'{student1.name} is {student1.age} years old')"
   ]
  },
  {
   "cell_type": "code",
   "execution_count": null,
   "id": "09266cde-a58a-4bf4-a835-05d2e60a7664",
   "metadata": {},
   "outputs": [],
   "source": []
  }
 ],
 "metadata": {
  "kernelspec": {
   "display_name": "Python 3 (ipykernel)",
   "language": "python",
   "name": "python3"
  },
  "language_info": {
   "codemirror_mode": {
    "name": "ipython",
    "version": 3
   },
   "file_extension": ".py",
   "mimetype": "text/x-python",
   "name": "python",
   "nbconvert_exporter": "python",
   "pygments_lexer": "ipython3",
   "version": "3.12.4"
  }
 },
 "nbformat": 4,
 "nbformat_minor": 5
}
