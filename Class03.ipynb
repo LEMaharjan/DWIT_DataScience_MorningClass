{
 "cells": [
  {
   "cell_type": "code",
   "execution_count": 1,
   "id": "2b27c485-5b2f-41da-ae61-ff282fca8ef4",
   "metadata": {},
   "outputs": [
    {
     "name": "stdout",
     "output_type": "stream",
     "text": [
      "1\n"
     ]
    }
   ],
   "source": [
    "lis = [\n",
    "[1,2,3,4],\n",
    "[5,'a',4.1, 7],\n",
    "[True, False, None, True],\n",
    "]\n",
    "\n",
    "print(lis[0][0])"
   ]
  },
  {
   "cell_type": "code",
   "execution_count": 4,
   "id": "516c8cf7-6f6f-4950-bcf3-d8aaebb51c3f",
   "metadata": {},
   "outputs": [
    {
     "name": "stdout",
     "output_type": "stream",
     "text": [
      "12345a4.17TrueFalseNoneTrue"
     ]
    }
   ],
   "source": [
    "for row in lis:\n",
    "    for item in row:\n",
    "        print(item,end='')\n",
    "    "
   ]
  },
  {
   "cell_type": "code",
   "execution_count": 10,
   "id": "b0a3b6d1-b013-486e-a626-441fa3fb57d1",
   "metadata": {},
   "outputs": [
    {
     "name": "stdout",
     "output_type": "stream",
     "text": [
      "[3, 2, 4, 2, 9, 8, 9]\n"
     ]
    }
   ],
   "source": [
    "number=[3,2,4,2,9]\n",
    "number.append(9)\n",
    "number.insert(5,8)\n",
    "print(number)"
   ]
  },
  {
   "cell_type": "code",
   "execution_count": 14,
   "id": "e992426c-72c6-4bf8-a3e1-89e95735573f",
   "metadata": {},
   "outputs": [
    {
     "name": "stdout",
     "output_type": "stream",
     "text": [
      "[2, 'l', 9.3, True, 4, 5, 6]\n"
     ]
    }
   ],
   "source": [
    "lis1 = [2,'l',9.3, True]\n",
    "listnum = [4,5,6]\n",
    "lis1.append(listnum)\n",
    "lis1.extend(listnum)\n",
    "lis1.pop(4)\n",
    "print(lis1)"
   ]
  },
  {
   "cell_type": "code",
   "execution_count": null,
   "id": "d0d7ba29-1b73-4443-a4b0-c167fa7f023c",
   "metadata": {},
   "outputs": [],
   "source": []
  }
 ],
 "metadata": {
  "kernelspec": {
   "display_name": "Python 3 (ipykernel)",
   "language": "python",
   "name": "python3"
  },
  "language_info": {
   "codemirror_mode": {
    "name": "ipython",
    "version": 3
   },
   "file_extension": ".py",
   "mimetype": "text/x-python",
   "name": "python",
   "nbconvert_exporter": "python",
   "pygments_lexer": "ipython3",
   "version": "3.12.4"
  }
 },
 "nbformat": 4,
 "nbformat_minor": 5
}
