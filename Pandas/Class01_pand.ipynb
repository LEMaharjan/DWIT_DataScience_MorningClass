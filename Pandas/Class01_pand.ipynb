{
 "cells": [
  {
   "cell_type": "code",
   "execution_count": null,
   "id": "9d34be2d-249d-495e-a214-a085f8e4a46c",
   "metadata": {},
   "outputs": [],
   "source": [
    "import pandas as pd\n",
    "pd.__version__\n",
    "data = pd.read_csv('music.csv')\n",
    "# relativepath = pd.read_csv('Downloads/music.csv')\n",
    "data.describe()         \n",
    "data.info()"
   ]
  },
  {
   "cell_type": "markdown",
   "id": "adee97a8",
   "metadata": {},
   "source": [
    "machine Learning >> Supervised(level), Unsupervised(unlable), Reinforcement Learning(hit and trial)\n",
    "continuous variable (Regressions)\n",
    "categorical variable ()"
   ]
  },
  {
   "cell_type": "markdown",
   "id": "bc3d484e",
   "metadata": {},
   "source": [
    "dataframe == multiple columns\n",
    "series = single columns"
   ]
  },
  {
   "cell_type": "code",
   "execution_count": null,
   "id": "2471f804",
   "metadata": {},
   "outputs": [],
   "source": [
    "df = pd.read_csv('music.csv')\n",
    "X =  df.drop(columns=[\"genre\"])\n",
    "# X = df[[\"age\",\"gender\"]]\n",
    "Y = df[\"genre\"]\n",
    "Y\n",
    "X"
   ]
  },
  {
   "cell_type": "markdown",
   "id": "491b3357",
   "metadata": {},
   "source": []
  },
  {
   "cell_type": "code",
   "execution_count": null,
   "id": "c16c0b2b-3da1-4cb5-9d50-b78e9cfc02bf",
   "metadata": {},
   "outputs": [],
   "source": [
    "data.dtypes\n"
   ]
  },
  {
   "cell_type": "code",
   "execution_count": null,
   "id": "f404c9c8",
   "metadata": {},
   "outputs": [],
   "source": [
    "data.head(6)"
   ]
  },
  {
   "cell_type": "code",
   "execution_count": null,
   "id": "42314c24",
   "metadata": {},
   "outputs": [],
   "source": [
    "data.tail(3)"
   ]
  },
  {
   "cell_type": "code",
   "execution_count": null,
   "id": "7d18d968",
   "metadata": {},
   "outputs": [],
   "source": [
    "data.sample()"
   ]
  },
  {
   "cell_type": "code",
   "execution_count": null,
   "id": "dca82313",
   "metadata": {},
   "outputs": [],
   "source": [
    "help(data.dtypes)"
   ]
  },
  {
   "cell_type": "code",
   "execution_count": null,
   "id": "3c946507",
   "metadata": {},
   "outputs": [],
   "source": []
  }
 ],
 "metadata": {
  "kernelspec": {
   "display_name": "Python 3 (ipykernel)",
   "language": "python",
   "name": "python3"
  },
  "language_info": {
   "codemirror_mode": {
    "name": "ipython",
    "version": 3
   },
   "file_extension": ".py",
   "mimetype": "text/x-python",
   "name": "python",
   "nbconvert_exporter": "python",
   "pygments_lexer": "ipython3",
   "version": "3.12.4"
  }
 },
 "nbformat": 4,
 "nbformat_minor": 5
}
